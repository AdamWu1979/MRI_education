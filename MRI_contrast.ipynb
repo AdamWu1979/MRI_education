{
 "cells": [
  {
   "cell_type": "markdown",
   "metadata": {},
   "source": [
    "## Import Python Modules"
   ]
  },
  {
   "cell_type": "code",
   "execution_count": 1,
   "metadata": {},
   "outputs": [],
   "source": [
    "import numpy as np\n",
    "import matplotlib.pyplot as plt\n",
    "np.seterr(divide='ignore', invalid='ignore')\n",
    "from ipywidgets import interact, interactive, fixed, interact_manual\n",
    "import ipywidgets as widgets"
   ]
  },
  {
   "cell_type": "markdown",
   "metadata": {},
   "source": [
    "## Load Data"
   ]
  },
  {
   "cell_type": "code",
   "execution_count": 2,
   "metadata": {},
   "outputs": [],
   "source": [
    "# Get the T1 map\n",
    "T1map = np.genfromtxt('data/T1map.csv', delimiter=',')\n",
    "# Get the T2 map\n",
    "T2map = np.genfromtxt('data/T2map.csv', delimiter=',')\n",
    "\n",
    "# print(T1map)\n",
    "# print(T2map)"
   ]
  },
  {
   "cell_type": "markdown",
   "metadata": {},
   "source": [
    "## Simulate spoiled gradient echo"
   ]
  },
  {
   "cell_type": "code",
   "execution_count": 7,
   "metadata": {},
   "outputs": [
    {
     "data": {
      "application/vnd.jupyter.widget-view+json": {
       "model_id": "9309a7ded4cf4e10b3dbdb0e5433ac3a",
       "version_major": 2,
       "version_minor": 0
      },
      "text/plain": [
       "interactive(children=(IntSlider(value=50, description='FA'), BoundedIntText(value=10, description='TR', max=20…"
      ]
     },
     "metadata": {},
     "output_type": "display_data"
    }
   ],
   "source": [
    "# FA is Flip angle (degrees)\n",
    "# TR is Repetition time (ms)\n",
    "# TE is Echo time (ms)\n",
    "# win sets the maximum signal on the image display\n",
    "\n",
    "@interact(FA = (0,100,1),\n",
    "          TR = widgets.BoundedIntText(value=10, min=0, max=20000),\n",
    "          TE = widgets.BoundedIntText(value=2, min=0, max=500),\n",
    "          win = (0.0,1.0, 0.05))\n",
    "def spoiled_ge(FA, TR, TE, win):\n",
    "    imt1 = np.exp(-TE/T2map) * np.sin(np.deg2rad(FA)) * (1 - np.exp(-TR/T1map)) / (1 - np.cos(np.deg2rad(FA)) * np.exp(-TR/T1map))\n",
    "\n",
    "    fig, ax = plt.subplots()\n",
    "    ax.set_title(\"Spoiled Gradient Echo scan\")\n",
    "    im = ax.imshow(imt1, cmap='gray', extent=[0, win, 0, win])\n",
    "    fig.colorbar(im, ax=ax)\n",
    "    plt.axis(\"off\")\n",
    "    plt.show()\n",
    "    \n"
   ]
  },
  {
   "cell_type": "markdown",
   "metadata": {},
   "source": [
    "## Simulate Spin Echo Image"
   ]
  },
  {
   "cell_type": "code",
   "execution_count": 4,
   "metadata": {},
   "outputs": [
    {
     "data": {
      "application/vnd.jupyter.widget-view+json": {
       "model_id": "0faf11cab6c24d8f8b99d2391e6b3007",
       "version_major": 2,
       "version_minor": 0
      },
      "text/plain": [
       "interactive(children=(IntSlider(value=50, description='FA'), BoundedIntText(value=5000, description='TR', max=…"
      ]
     },
     "metadata": {},
     "output_type": "display_data"
    }
   ],
   "source": [
    "# FA is Flip angle (degrees)\n",
    "# TR is Repetition time (ms)\n",
    "# TE is Echo time (ms)\n",
    "# win sets the maximum signal on the image display\n",
    "\n",
    "@interact(FA = (0,100,1),\n",
    "          TR = widgets.BoundedIntText(value=5000, min=0, max=20000),\n",
    "          TE = widgets.BoundedIntText(value=150, min=0, max=500),\n",
    "          win = (0.0,1.0, 0.05))\n",
    "def se(FA, TR, TE, win):\n",
    "    imt2 = np.exp(-TE/T2map) * (1 - np.exp(-TR/T1map))\n",
    "\n",
    "    fig, ax = plt.subplots()\n",
    "    ax.set_title(\"Spin Echo scan\")\n",
    "    im = ax.imshow(imt2, cmap='gray', extent=[0, win, 0, win])\n",
    "    fig.colorbar(im, ax=ax)\n",
    "    plt.axis(\"off\")\n",
    "    plt.show()"
   ]
  },
  {
   "cell_type": "markdown",
   "metadata": {},
   "source": [
    "## Simulate FLAIR Image"
   ]
  },
  {
   "cell_type": "code",
   "execution_count": 6,
   "metadata": {},
   "outputs": [
    {
     "data": {
      "application/vnd.jupyter.widget-view+json": {
       "model_id": "ad5a8fb5abdf4b5bae171c92229dc634",
       "version_major": 2,
       "version_minor": 0
      },
      "text/plain": [
       "interactive(children=(IntSlider(value=50, description='FA'), BoundedIntText(value=10000, description='TR', max…"
      ]
     },
     "metadata": {},
     "output_type": "display_data"
    }
   ],
   "source": [
    "# FA is Flip angle (degrees)\n",
    "# TI is Inversion delay time\n",
    "# TR is Repetition time (ms)\n",
    "# TE is Echo time (ms)\n",
    "# win sets the maximum signal on the image display\n",
    "\n",
    "@interact(FA = (0,100,1),\n",
    "          TR = widgets.BoundedIntText(value=10000, min=0, max=20000),\n",
    "          TE = widgets.BoundedIntText(value=170, min=0, max=500),\n",
    "          TI = widgets.BoundedIntText(value=2079, min=0, max=10000),\n",
    "          win = (0.0,1.0, 0.05))\n",
    "def flair(FA, TR, TE, TI, win):\n",
    "    imflair = np.exp(-TE/T2map) * (1 - 2*np.exp(-TI/T1map) + np.exp(-TR/T1map))\n",
    "\n",
    "    fig, ax = plt.subplots()\n",
    "    ax.set_title(\"FLAIR scan\")\n",
    "    im = ax.imshow(imflair, cmap='gray', extent=[0, win, 0, win])\n",
    "    fig.colorbar(im, ax=ax)\n",
    "    plt.axis(\"off\")\n",
    "    plt.show()"
   ]
  },
  {
   "cell_type": "code",
   "execution_count": null,
   "metadata": {},
   "outputs": [],
   "source": []
  }
 ],
 "metadata": {
  "kernelspec": {
   "display_name": "Python 3",
   "language": "python",
   "name": "python3"
  },
  "language_info": {
   "codemirror_mode": {
    "name": "ipython",
    "version": 3
   },
   "file_extension": ".py",
   "mimetype": "text/x-python",
   "name": "python",
   "nbconvert_exporter": "python",
   "pygments_lexer": "ipython3",
   "version": "3.7.3"
  }
 },
 "nbformat": 4,
 "nbformat_minor": 4
}
