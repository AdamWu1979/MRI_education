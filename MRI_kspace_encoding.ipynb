{
 "cells": [
  {
   "cell_type": "code",
   "execution_count": 1,
   "metadata": {},
   "outputs": [
    {
     "data": {
      "application/vnd.jupyter.widget-view+json": {
       "model_id": "571c780117ca44d08cd8e5450c4fff22",
       "version_major": 2,
       "version_minor": 0
      },
      "text/plain": [
       "interactive(children=(Checkbox(value=True, description='Hide_Code'), Output()), _dom_classes=('widget-interact…"
      ]
     },
     "metadata": {},
     "output_type": "display_data"
    }
   ],
   "source": [
    "import numpy as np\n",
    "import matplotlib.pyplot as plt\n",
    "np.seterr(divide='ignore', invalid='ignore')\n",
    "from ipywidgets import interact, interactive, fixed, interact_manual\n",
    "import ipywidgets as widgets\n",
    "from IPython.display import Javascript, display\n",
    "\n",
    "\n",
    "@interact(Hide_Code = True)\n",
    "def code_toggle(Hide_Code):\n",
    "    if Hide_Code:\n",
    "        display(Javascript(\"Jupyter.notebook.execute_cells([3])\"))\n",
    "        display(Javascript(\"Jupyter.notebook.execute_cells([1])\"))\n",
    "    else:\n",
    "        display(Javascript(\"Jupyter.notebook.execute_cells([3])\"))\n",
    "        display(Javascript(\"Jupyter.notebook.execute_cells([2])\"))"
   ]
  },
  {
   "cell_type": "code",
   "execution_count": 10,
   "metadata": {},
   "outputs": [
    {
     "data": {
      "text/html": [
       "<style>\n",
       "div.input {\n",
       "    display:none;\n",
       "}\n",
       "</style>\n"
      ],
      "text/plain": [
       "<IPython.core.display.HTML object>"
      ]
     },
     "metadata": {},
     "output_type": "display_data"
    }
   ],
   "source": [
    "%%html\n",
    "<style>\n",
    "div.input {\n",
    "    display:none;\n",
    "}\n",
    "</style>"
   ]
  },
  {
   "cell_type": "code",
   "execution_count": 3,
   "metadata": {},
   "outputs": [
    {
     "data": {
      "text/html": [
       "<style>\n",
       "div.input {\n",
       "    display:inline;\n",
       "}\n",
       "</style>\n"
      ],
      "text/plain": [
       "<IPython.core.display.HTML object>"
      ]
     },
     "metadata": {},
     "output_type": "display_data"
    }
   ],
   "source": [
    "%%html\n",
    "<style>\n",
    "div.input {\n",
    "    display:inline;\n",
    "}\n",
    "</style>"
   ]
  },
  {
   "cell_type": "code",
   "execution_count": 8,
   "metadata": {},
   "outputs": [
    {
     "data": {
      "text/html": [
       "<style>\n",
       "div.input {\n",
       "}\n",
       "</style>\n"
      ],
      "text/plain": [
       "<IPython.core.display.HTML object>"
      ]
     },
     "metadata": {},
     "output_type": "display_data"
    }
   ],
   "source": [
    "%%html\n",
    "<style>\n",
    "div.input {\n",
    "}\n",
    "</style>"
   ]
  },
  {
   "cell_type": "markdown",
   "metadata": {},
   "source": [
    "# Image resolution and Field of View example"
   ]
  },
  {
   "cell_type": "code",
   "execution_count": 5,
   "metadata": {},
   "outputs": [],
   "source": [
    "# load in data\n",
    "imdata = np.genfromtxt('data/kspace_imdata.csv', delimiter=',')\n",
    "\n",
    "# generate k-space\n",
    "kdata = np.fft.fftshift(np.fft.fft2(imdata))\n",
    "\n",
    "# Define base resolution and FOV\n",
    "FOV = 200 # units are mm\n",
    "Nx, Ny = imdata.shape\n",
    "dx = FOV/Nx # units are mm\n",
    "grid = np.meshgrid(np.arange(-(FOV/2-dx),(FOV/2)+dx,dx), np.arange(-(FOV/2-dx),(FOV/2)+dx,dx))\n",
    "\n",
    "# Define a grid of k-space sample locations\n",
    "FOVk = 2*np.pi/(dx)\n",
    "dk = 2*np.pi/FOV\n",
    "kgrid = np.meshgrid(np.arange(-(FOVk/2-dk),(FOVk/2)+dk,dk), np.arange(-(FOVk/2-dk),(FOVk/2)+dk,dk))"
   ]
  },
  {
   "cell_type": "markdown",
   "metadata": {},
   "source": [
    "## Use the sliders to change the k-space sampling\n",
    "Let's set FOV and resolution only in one direction\n",
    "There is an option to apply to both directions\n",
    "\n",
    "There are three interactive controls below\n",
    "1. The first slider below can be used to reduce the image resolution (i.e. increase the voxel size)\n",
    "2. The second slider below reduces the *encoded* FOV by the factor shown, only integers allowed\n",
    "3. The sliders apply only to one dimension in k-space. Tick the checkbox below to apply to both"
   ]
  },
  {
   "cell_type": "code",
   "execution_count": 6,
   "metadata": {},
   "outputs": [
    {
     "data": {
      "application/vnd.jupyter.widget-view+json": {
       "model_id": "b2b9f2dbb22d44d191899004e51049a6",
       "version_major": 2,
       "version_minor": 0
      },
      "text/plain": [
       "interactive(children=(FloatSlider(value=0.5, description='reduce_resolution', max=1.0, min=0.1), IntSlider(val…"
      ]
     },
     "metadata": {},
     "output_type": "display_data"
    }
   ],
   "source": [
    "@interact(reduce_resolution = (0.1,1,0.1),\n",
    "          reduce_FOV = (1,4,1),\n",
    "          resample_both_dimensions = True)\n",
    "def kspace_enc(reduce_resolution, reduce_FOV, resample_both_dimensions):\n",
    "    # based on above make a filter for k-space data\n",
    "    kfilter1 = np.zeros(kdata.shape)\n",
    "    kfilter2 = np.zeros(kdata.shape)\n",
    "    ksample = np.arange(-(FOVk/2-dk),(FOVk/2)+dk,dk)\n",
    "    kfilter1[:,np.where(abs(ksample)<((FOVk/2)*reduce_resolution))]=1\n",
    "    kfilter2[:,0:-1:reduce_FOV]=1\n",
    "    kfilter = kfilter1 * kfilter2\n",
    "\n",
    "    if resample_both_dimensions:\n",
    "        # also apply in AP direction\n",
    "        kfilter = kfilter * kfilter.conj().transpose()\n",
    "    print(\"Total fraction of k-space sampled = {}\".format(100*np.size(np.where(kfilter != 0))/(Nx*Ny)))\n",
    "    \n",
    "    kdata_sampled = kfilter * kdata\n",
    "     # invert FT\n",
    "    imencoded = np.fft.ifft2(np.fft.ifftshift(kdata_sampled))\n",
    "    \n",
    "    fig, axes = plt.subplots(1, 2, figsize=(8, 4))\n",
    "    ax = axes.ravel()\n",
    "    ax[0].imshow(abs(kdata_sampled), cmap='gray', extent=[-(FOVk/2-dk), (FOVk/2)+dk, -(FOVk/2-dk), (FOVk/2)+dk],vmin=0, vmax=10)\n",
    "    ax[0].set_xlabel('k_x (rad/mm)')\n",
    "    ax[0].set_ylabel('k_y (rad/mm)')\n",
    "    ax[0].set_title('K-space Data')\n",
    "    ax[1].imshow(abs(imencoded), cmap='gray', extent=[0, 1/reduce_FOV, 0, 1/reduce_FOV])\n",
    "    ax[1].set_title('Reconstructed image')\n",
    "    ax[1].axis('off')\n",
    "\n",
    "    fig.tight_layout()\n",
    "    plt.show()"
   ]
  },
  {
   "cell_type": "code",
   "execution_count": null,
   "metadata": {},
   "outputs": [],
   "source": []
  }
 ],
 "metadata": {
  "kernelspec": {
   "display_name": "Python 3",
   "language": "python",
   "name": "python3"
  },
  "language_info": {
   "codemirror_mode": {
    "name": "ipython",
    "version": 3
   },
   "file_extension": ".py",
   "mimetype": "text/x-python",
   "name": "python",
   "nbconvert_exporter": "python",
   "pygments_lexer": "ipython3",
   "version": "3.7.3"
  }
 },
 "nbformat": 4,
 "nbformat_minor": 4
}
